{
 "cells": [
  {
   "cell_type": "code",
   "execution_count": 1,
   "id": "0c4302dd-d46b-4c45-8e96-2cd28b7e2e90",
   "metadata": {},
   "outputs": [],
   "source": [
    "import numpy as np\n",
    "import rebound\n",
    "import matplotlib.pyplot as plt\n",
    "import json\n",
    "import pandas as pd\n",
    "import os\n",
    "import tqdm"
   ]
  },
  {
   "cell_type": "code",
   "execution_count": 2,
   "id": "4474b877-830a-4fd3-9fba-042fa49eb491",
   "metadata": {},
   "outputs": [],
   "source": [
    "ss_bodies = [\"Sun\", \"Mercury\", \"Venus\", \"Earth\", \"Mars\", \"Jupiter\", \"Saturn\", \"Uranus\", \"Neptune\", \"Pluto\"]"
   ]
  },
  {
   "cell_type": "code",
   "execution_count": 3,
   "id": "804425cc-67bc-408c-9b79-f31c7702503e",
   "metadata": {},
   "outputs": [],
   "source": [
    "attrs = ['x', 'y', 'z']#, 'vx', 'vy', 'vz']"
   ]
  },
  {
   "cell_type": "code",
   "execution_count": 4,
   "id": "ebf3c688-559e-498f-811e-17aa8b870321",
   "metadata": {},
   "outputs": [],
   "source": [
    "def growth_linear(final_mass, N_outputs):\n",
    "    return np.mgrid[initial_sun_mass:final_mass:N_outputs*1j]\n",
    "\n",
    "def growth_exponential(final_mass, N_outputs):\n",
    "    ratio = np.log10(final_mass/initial_sun_mass)\n",
    "    return 10**np.mgrid[0.0:ratio:N_outputs*1j]\n",
    "\n",
    "def growth_instantaneous(final_mass, N_outputs):\n",
    "    return np.ones(N_outputs)*final_mass\n",
    "\n",
    "final_masses = [0.001, 0.1, 2, 10, 25, 100, 1000]\n",
    "growth_funcs = {\n",
    "    \"linear\": growth_linear,\n",
    "    \"exponential\": growth_exponential,\n",
    "    \"instantaneous\": growth_instantaneous,\n",
    "}"
   ]
  },
  {
   "cell_type": "code",
   "execution_count": 5,
   "id": "ed087e2e-e36b-45bb-a4c1-23e1bf523f29",
   "metadata": {},
   "outputs": [],
   "source": [
    "\n",
    "if os.path.exists(\"ss_initial_conditions.bin\"):\n",
    "    sim = rebound.Simulation(\"ss_initial_conditions.bin\")\n",
    "else:\n",
    "    sim = rebound.Simulation()\n",
    "    sim.units = ('day', 'AU', 'Msun')\n",
    "    for body in ss_bodies:\n",
    "        sim.add(body)\n",
    "    sim.save_to_file(\"ss_initial_conditions.bin\")\n",
    "initial_sun_mass = sim.particles[0].m"
   ]
  },
  {
   "cell_type": "code",
   "execution_count": 6,
   "id": "85ec224e-bd7e-4078-8783-2d5ecfdab9b9",
   "metadata": {},
   "outputs": [],
   "source": [
    "def output_orbits(funcname, final_mass):\n",
    "    tmax = 365 * 10\n",
    "    dt = 1\n",
    "    N_outputs = tmax // dt\n",
    "    mass = growth_funcs[funcname](final_mass, N_outputs)\n",
    "\n",
    "    output = {\"time\": [], \"Msun\": []}\n",
    "    output.update({f\"{b}_{attr}\": [] for b in ss_bodies for attr in attrs})\n",
    "    for i in tqdm.tqdm(range(N_outputs)):\n",
    "        sim.particles[0].m = mass[i]\n",
    "        sim.integrate(sim.t + dt)\n",
    "        for b, p in zip(ss_bodies, sim.particles):\n",
    "            for attr in attrs:\n",
    "                output[f\"{b}_{attr}\"].append(getattr(p, attr))\n",
    "        output['time'].append(sim.t)\n",
    "        output['Msun'].append(sim.particles[0].m)\n",
    "    df = pd.DataFrame(output).set_index(\"time\")\n",
    "    df.to_csv(f\"orbits_{funcname}_{int(final_mass*100):06d}.csv\", float_format = \"%0.4g\")"
   ]
  },
  {
   "cell_type": "code",
   "execution_count": 8,
   "id": "721bbfe4-f0df-4b12-83d1-24b429b7f20a",
   "metadata": {},
   "outputs": [
    {
     "name": "stdout",
     "output_type": "stream",
     "text": [
      "linear=>1e-10\n"
     ]
    },
    {
     "name": "stderr",
     "output_type": "stream",
     "text": [
      "100%|█████████████████████████████████████████████████████████████████████████████████████████████████████████████████████████████████████████████████████████████████████████| 3650/3650 [00:00<00:00, 5520.58it/s]\n"
     ]
    },
    {
     "name": "stdout",
     "output_type": "stream",
     "text": [
      "linear=>0.1\n"
     ]
    },
    {
     "name": "stderr",
     "output_type": "stream",
     "text": [
      "100%|█████████████████████████████████████████████████████████████████████████████████████████████████████████████████████████████████████████████████████████████████████████| 3650/3650 [00:00<00:00, 5974.48it/s]\n"
     ]
    },
    {
     "name": "stdout",
     "output_type": "stream",
     "text": [
      "linear=>1\n"
     ]
    },
    {
     "name": "stderr",
     "output_type": "stream",
     "text": [
      "100%|█████████████████████████████████████████████████████████████████████████████████████████████████████████████████████████████████████████████████████████████████████████| 3650/3650 [00:00<00:00, 6185.98it/s]\n"
     ]
    },
    {
     "name": "stdout",
     "output_type": "stream",
     "text": [
      "linear=>2\n"
     ]
    },
    {
     "name": "stderr",
     "output_type": "stream",
     "text": [
      "100%|█████████████████████████████████████████████████████████████████████████████████████████████████████████████████████████████████████████████████████████████████████████| 3650/3650 [00:00<00:00, 6137.86it/s]\n"
     ]
    },
    {
     "name": "stdout",
     "output_type": "stream",
     "text": [
      "linear=>5\n"
     ]
    },
    {
     "name": "stderr",
     "output_type": "stream",
     "text": [
      "100%|█████████████████████████████████████████████████████████████████████████████████████████████████████████████████████████████████████████████████████████████████████████| 3650/3650 [00:00<00:00, 5826.48it/s]\n"
     ]
    },
    {
     "name": "stdout",
     "output_type": "stream",
     "text": [
      "linear=>10\n"
     ]
    },
    {
     "name": "stderr",
     "output_type": "stream",
     "text": [
      "100%|█████████████████████████████████████████████████████████████████████████████████████████████████████████████████████████████████████████████████████████████████████████| 3650/3650 [00:00<00:00, 5088.86it/s]\n"
     ]
    },
    {
     "name": "stdout",
     "output_type": "stream",
     "text": [
      "linear=>25\n"
     ]
    },
    {
     "name": "stderr",
     "output_type": "stream",
     "text": [
      "100%|█████████████████████████████████████████████████████████████████████████████████████████████████████████████████████████████████████████████████████████████████████████| 3650/3650 [00:00<00:00, 5559.53it/s]\n"
     ]
    },
    {
     "name": "stdout",
     "output_type": "stream",
     "text": [
      "linear=>50\n"
     ]
    },
    {
     "name": "stderr",
     "output_type": "stream",
     "text": [
      "100%|█████████████████████████████████████████████████████████████████████████████████████████████████████████████████████████████████████████████████████████████████████████| 3650/3650 [00:00<00:00, 5595.06it/s]\n"
     ]
    },
    {
     "name": "stdout",
     "output_type": "stream",
     "text": [
      "linear=>100\n"
     ]
    },
    {
     "name": "stderr",
     "output_type": "stream",
     "text": [
      "100%|█████████████████████████████████████████████████████████████████████████████████████████████████████████████████████████████████████████████████████████████████████████| 3650/3650 [00:00<00:00, 5550.57it/s]\n"
     ]
    },
    {
     "name": "stdout",
     "output_type": "stream",
     "text": [
      "linear=>1000\n"
     ]
    },
    {
     "name": "stderr",
     "output_type": "stream",
     "text": [
      "100%|█████████████████████████████████████████████████████████████████████████████████████████████████████████████████████████████████████████████████████████████████████████| 3650/3650 [00:00<00:00, 5581.13it/s]\n"
     ]
    },
    {
     "name": "stdout",
     "output_type": "stream",
     "text": [
      "exponential=>1e-10\n"
     ]
    },
    {
     "name": "stderr",
     "output_type": "stream",
     "text": [
      "100%|█████████████████████████████████████████████████████████████████████████████████████████████████████████████████████████████████████████████████████████████████████████| 3650/3650 [00:00<00:00, 5875.28it/s]\n"
     ]
    },
    {
     "name": "stdout",
     "output_type": "stream",
     "text": [
      "exponential=>0.1\n"
     ]
    },
    {
     "name": "stderr",
     "output_type": "stream",
     "text": [
      "100%|█████████████████████████████████████████████████████████████████████████████████████████████████████████████████████████████████████████████████████████████████████████| 3650/3650 [00:00<00:00, 6342.24it/s]\n"
     ]
    },
    {
     "name": "stdout",
     "output_type": "stream",
     "text": [
      "exponential=>1\n"
     ]
    },
    {
     "name": "stderr",
     "output_type": "stream",
     "text": [
      "100%|█████████████████████████████████████████████████████████████████████████████████████████████████████████████████████████████████████████████████████████████████████████| 3650/3650 [00:00<00:00, 6227.11it/s]\n"
     ]
    },
    {
     "name": "stdout",
     "output_type": "stream",
     "text": [
      "exponential=>2\n"
     ]
    },
    {
     "name": "stderr",
     "output_type": "stream",
     "text": [
      "100%|█████████████████████████████████████████████████████████████████████████████████████████████████████████████████████████████████████████████████████████████████████████| 3650/3650 [00:00<00:00, 6157.48it/s]\n"
     ]
    },
    {
     "name": "stdout",
     "output_type": "stream",
     "text": [
      "exponential=>5\n"
     ]
    },
    {
     "name": "stderr",
     "output_type": "stream",
     "text": [
      "100%|█████████████████████████████████████████████████████████████████████████████████████████████████████████████████████████████████████████████████████████████████████████| 3650/3650 [00:00<00:00, 5629.87it/s]\n"
     ]
    },
    {
     "name": "stdout",
     "output_type": "stream",
     "text": [
      "exponential=>10\n"
     ]
    },
    {
     "name": "stderr",
     "output_type": "stream",
     "text": [
      "100%|█████████████████████████████████████████████████████████████████████████████████████████████████████████████████████████████████████████████████████████████████████████| 3650/3650 [00:00<00:00, 5571.09it/s]\n"
     ]
    },
    {
     "name": "stdout",
     "output_type": "stream",
     "text": [
      "exponential=>25\n"
     ]
    },
    {
     "name": "stderr",
     "output_type": "stream",
     "text": [
      "100%|█████████████████████████████████████████████████████████████████████████████████████████████████████████████████████████████████████████████████████████████████████████| 3650/3650 [00:00<00:00, 5491.87it/s]\n"
     ]
    },
    {
     "name": "stdout",
     "output_type": "stream",
     "text": [
      "exponential=>50\n"
     ]
    },
    {
     "name": "stderr",
     "output_type": "stream",
     "text": [
      "100%|█████████████████████████████████████████████████████████████████████████████████████████████████████████████████████████████████████████████████████████████████████████| 3650/3650 [00:00<00:00, 5604.66it/s]\n"
     ]
    },
    {
     "name": "stdout",
     "output_type": "stream",
     "text": [
      "exponential=>100\n"
     ]
    },
    {
     "name": "stderr",
     "output_type": "stream",
     "text": [
      "100%|█████████████████████████████████████████████████████████████████████████████████████████████████████████████████████████████████████████████████████████████████████████| 3650/3650 [00:00<00:00, 5626.17it/s]\n"
     ]
    },
    {
     "name": "stdout",
     "output_type": "stream",
     "text": [
      "exponential=>1000\n"
     ]
    },
    {
     "name": "stderr",
     "output_type": "stream",
     "text": [
      "100%|█████████████████████████████████████████████████████████████████████████████████████████████████████████████████████████████████████████████████████████████████████████| 3650/3650 [00:00<00:00, 5772.58it/s]\n"
     ]
    },
    {
     "name": "stdout",
     "output_type": "stream",
     "text": [
      "instantaneous=>1e-10\n"
     ]
    },
    {
     "ename": "NameError",
     "evalue": "name 'final_maxx' is not defined",
     "output_type": "error",
     "traceback": [
      "\u001b[0;31m---------------------------------------------------------------------------\u001b[0m",
      "\u001b[0;31mNameError\u001b[0m                                 Traceback (most recent call last)",
      "Cell \u001b[0;32mIn[8], line 4\u001b[0m\n\u001b[1;32m      2\u001b[0m \u001b[38;5;28;01mfor\u001b[39;00m final_mass \u001b[38;5;129;01min\u001b[39;00m [\u001b[38;5;241m1e-10\u001b[39m, \u001b[38;5;241m0.1\u001b[39m, \u001b[38;5;241m1\u001b[39m, \u001b[38;5;241m2\u001b[39m, \u001b[38;5;241m5\u001b[39m, \u001b[38;5;241m10\u001b[39m, \u001b[38;5;241m25\u001b[39m, \u001b[38;5;241m50\u001b[39m, \u001b[38;5;241m100\u001b[39m, \u001b[38;5;241m1000\u001b[39m]:\n\u001b[1;32m      3\u001b[0m     \u001b[38;5;28mprint\u001b[39m(\u001b[38;5;124mf\u001b[39m\u001b[38;5;124m\"\u001b[39m\u001b[38;5;132;01m{\u001b[39;00mfunc\u001b[38;5;132;01m}\u001b[39;00m\u001b[38;5;124m=>\u001b[39m\u001b[38;5;132;01m{\u001b[39;00mfinal_mass\u001b[38;5;132;01m}\u001b[39;00m\u001b[38;5;124m\"\u001b[39m)\n\u001b[0;32m----> 4\u001b[0m     \u001b[43moutput_orbits\u001b[49m\u001b[43m(\u001b[49m\u001b[43mfunc\u001b[49m\u001b[43m,\u001b[49m\u001b[43m \u001b[49m\u001b[43mfinal_mass\u001b[49m\u001b[43m)\u001b[49m\n",
      "Cell \u001b[0;32mIn[6], line 5\u001b[0m, in \u001b[0;36moutput_orbits\u001b[0;34m(funcname, final_mass)\u001b[0m\n\u001b[1;32m      3\u001b[0m dt \u001b[38;5;241m=\u001b[39m \u001b[38;5;241m1\u001b[39m\n\u001b[1;32m      4\u001b[0m N_outputs \u001b[38;5;241m=\u001b[39m tmax \u001b[38;5;241m/\u001b[39m\u001b[38;5;241m/\u001b[39m dt\n\u001b[0;32m----> 5\u001b[0m mass \u001b[38;5;241m=\u001b[39m \u001b[43mgrowth_funcs\u001b[49m\u001b[43m[\u001b[49m\u001b[43mfuncname\u001b[49m\u001b[43m]\u001b[49m\u001b[43m(\u001b[49m\u001b[43mfinal_mass\u001b[49m\u001b[43m,\u001b[49m\u001b[43m \u001b[49m\u001b[43mN_outputs\u001b[49m\u001b[43m)\u001b[49m\n\u001b[1;32m      7\u001b[0m output \u001b[38;5;241m=\u001b[39m {\u001b[38;5;124m\"\u001b[39m\u001b[38;5;124mtime\u001b[39m\u001b[38;5;124m\"\u001b[39m: [], \u001b[38;5;124m\"\u001b[39m\u001b[38;5;124mMsun\u001b[39m\u001b[38;5;124m\"\u001b[39m: []}\n\u001b[1;32m      8\u001b[0m output\u001b[38;5;241m.\u001b[39mupdate({\u001b[38;5;124mf\u001b[39m\u001b[38;5;124m\"\u001b[39m\u001b[38;5;132;01m{\u001b[39;00mb\u001b[38;5;132;01m}\u001b[39;00m\u001b[38;5;124m_\u001b[39m\u001b[38;5;132;01m{\u001b[39;00mattr\u001b[38;5;132;01m}\u001b[39;00m\u001b[38;5;124m\"\u001b[39m: [] \u001b[38;5;28;01mfor\u001b[39;00m b \u001b[38;5;129;01min\u001b[39;00m ss_bodies \u001b[38;5;28;01mfor\u001b[39;00m attr \u001b[38;5;129;01min\u001b[39;00m attrs})\n",
      "Cell \u001b[0;32mIn[4], line 9\u001b[0m, in \u001b[0;36mgrowth_instantaneous\u001b[0;34m(final_mass, N_outputs)\u001b[0m\n\u001b[1;32m      8\u001b[0m \u001b[38;5;28;01mdef\u001b[39;00m \u001b[38;5;21mgrowth_instantaneous\u001b[39m(final_mass, N_outputs):\n\u001b[0;32m----> 9\u001b[0m     \u001b[38;5;28;01mreturn\u001b[39;00m np\u001b[38;5;241m.\u001b[39mones(N_outputs)\u001b[38;5;241m*\u001b[39m\u001b[43mfinal_maxx\u001b[49m\n",
      "\u001b[0;31mNameError\u001b[0m: name 'final_maxx' is not defined"
     ]
    }
   ],
   "source": [
    "for func in [\"linear\", \"exponential\", \"instantaneous\"]:\n",
    "    for final_mass in [1e-10, 0.1, 1, 2, 5, 10, 25, 50, 100, 1000]:\n",
    "        print(f\"{func}=>{final_mass}\")\n",
    "        output_orbits(func, final_mass)"
   ]
  },
  {
   "cell_type": "code",
   "execution_count": null,
   "id": "9032fc73-ca00-4abb-bb62-43e7f71582f7",
   "metadata": {},
   "outputs": [],
   "source": []
  }
 ],
 "metadata": {
  "kernelspec": {
   "display_name": "rebound",
   "language": "python",
   "name": "rebound"
  },
  "language_info": {
   "codemirror_mode": {
    "name": "ipython",
    "version": 3
   },
   "file_extension": ".py",
   "mimetype": "text/x-python",
   "name": "python",
   "nbconvert_exporter": "python",
   "pygments_lexer": "ipython3",
   "version": "3.12.5"
  }
 },
 "nbformat": 4,
 "nbformat_minor": 5
}
