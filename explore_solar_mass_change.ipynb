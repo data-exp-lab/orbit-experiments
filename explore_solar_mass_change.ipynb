{
 "cells": [
  {
   "cell_type": "code",
   "execution_count": null,
   "id": "0c4302dd-d46b-4c45-8e96-2cd28b7e2e90",
   "metadata": {},
   "outputs": [],
   "source": [
    "import numpy as np\n",
    "import rebound\n",
    "import matplotlib.pyplot as plt\n",
    "import json\n",
    "import pandas as pd\n",
    "import os"
   ]
  },
  {
   "cell_type": "code",
   "execution_count": null,
   "id": "4474b877-830a-4fd3-9fba-042fa49eb491",
   "metadata": {},
   "outputs": [],
   "source": [
    "ss_bodies = [\"Sun\", \"Mercury\", \"Venus\", \"Earth\", \"Mars\", \"Jupiter\", \"Saturn\", \"Uranus\", \"Neptune\", \"Pluto\"]"
   ]
  },
  {
   "cell_type": "code",
   "execution_count": null,
   "id": "804425cc-67bc-408c-9b79-f31c7702503e",
   "metadata": {},
   "outputs": [],
   "source": [
    "attrs = ['x', 'y', 'z', 'vx', 'vy', 'vz']"
   ]
  },
  {
   "cell_type": "code",
   "execution_count": null,
   "id": "ed087e2e-e36b-45bb-a4c1-23e1bf523f29",
   "metadata": {},
   "outputs": [],
   "source": [
    "if os.path.exists(\"ss_initial_conditions.bin\"):\n",
    "    sim = rebound.Simulation(\"ss_initial_conditions.bin\")\n",
    "else:\n",
    "    sim = rebound.Simulation()\n",
    "    sim.units = ('day', 'AU', 'Msun')\n",
    "    for body in ss_bodies:\n",
    "        sim.add(body)\n",
    "    sim.save_to_file(\"ss_initial_conditions.bin\")\n",
    "initial_sun_mass = sim.particles[0].m"
   ]
  },
  {
   "cell_type": "code",
   "execution_count": null,
   "id": "0eb9fec0-f43d-4122-b997-05e1d78e8d6a",
   "metadata": {},
   "outputs": [],
   "source": [
    "plt.plot(np.mgrid[0.0:1.0:100j])"
   ]
  },
  {
   "cell_type": "code",
   "execution_count": null,
   "id": "ebf3c688-559e-498f-811e-17aa8b870321",
   "metadata": {},
   "outputs": [],
   "source": [
    "def growth_linear(final_mass, N_outputs):\n",
    "    return np.mgrid[initial_sun_mass:final_mass:N_outputs*1j]\n",
    "\n",
    "def growth_exponential(final_mass, N_outputs):\n",
    "    ratio = np.log10(final_mass/initial_sun_mass)\n",
    "    return 10**np.mgrid[0.0:ratio:N_outputs*1j]\n",
    "\n",
    "final_masses = [0.001, 0.1, 2, 10, 25, 100, 1000]\n",
    "growth_funcs = {\n",
    "    \"linear\": growth_linear,\n",
    "    \"exponential\": growth_exponential,\n",
    "}"
   ]
  },
  {
   "cell_type": "code",
   "execution_count": null,
   "id": "cfafed9d-404c-45f2-8d0f-2bf17279de7d",
   "metadata": {},
   "outputs": [],
   "source": [
    "tmax = 365 * 10\n",
    "dt = 1\n",
    "final_mass = final_masses[0]\n",
    "N_outputs = tmax // dt\n",
    "mass = growth_funcs[\"exponential\"](final_mass, N_outputs)"
   ]
  },
  {
   "cell_type": "code",
   "execution_count": null,
   "id": "66874a3b-5262-4848-af61-43ced309efc0",
   "metadata": {},
   "outputs": [],
   "source": [
    "plt.plot(mass)"
   ]
  },
  {
   "cell_type": "code",
   "execution_count": null,
   "id": "4d4ce0e1-d8a0-4dd5-a0cc-b2f091fa98bf",
   "metadata": {},
   "outputs": [],
   "source": [
    "output = {b: {attr: [] for attr in attrs} for b in ss_bodies}\n",
    "output['time'] = []\n",
    "output['Msun'] = []\n",
    "for i in range(N_outputs):\n",
    "    sim.particles[0].m = mass[i]\n",
    "    sim.integrate(sim.t + dt)\n",
    "    for b, p in zip(ss_bodies, sim.particles):\n",
    "        for attr in attrs:\n",
    "            output[b][attr].append(getattr(p, attr))\n",
    "    output['time'].append(sim.t)\n",
    "    output['Msun'].append(sim.particles[0].m)"
   ]
  },
  {
   "cell_type": "code",
   "execution_count": null,
   "id": "1f8bd020-72eb-4be2-bd5c-651324e44920",
   "metadata": {},
   "outputs": [],
   "source": []
  },
  {
   "cell_type": "code",
   "execution_count": null,
   "id": "3e79cbd2-23fa-49ea-90e3-837f41019135",
   "metadata": {},
   "outputs": [],
   "source": [
    "fn = f\"standard_{tmax:010d}.json\"\n",
    "json.dump(output, open(fn, \"w\"), indent=2)"
   ]
  },
  {
   "cell_type": "code",
   "execution_count": null,
   "id": "11130f18-a238-4240-a56e-4eba9461b911",
   "metadata": {},
   "outputs": [],
   "source": [
    "plt.plot(output['time'], output['Msun'])"
   ]
  },
  {
   "cell_type": "code",
   "execution_count": null,
   "id": "bec0d9c2-97f1-426a-a029-c3b7f6755762",
   "metadata": {},
   "outputs": [],
   "source": [
    "plt.plot(output['Earth']['x'], output['Earth']['y'])"
   ]
  },
  {
   "cell_type": "code",
   "execution_count": null,
   "id": "f82148e0-e81b-42da-a5a4-a0c38db55acc",
   "metadata": {},
   "outputs": [],
   "source": []
  }
 ],
 "metadata": {
  "kernelspec": {
   "display_name": "rebound",
   "language": "python",
   "name": "rebound"
  },
  "language_info": {
   "codemirror_mode": {
    "name": "ipython",
    "version": 3
   },
   "file_extension": ".py",
   "mimetype": "text/x-python",
   "name": "python",
   "nbconvert_exporter": "python",
   "pygments_lexer": "ipython3",
   "version": "3.12.5"
  }
 },
 "nbformat": 4,
 "nbformat_minor": 5
}
