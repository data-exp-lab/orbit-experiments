{
 "cells": [
  {
   "cell_type": "code",
   "execution_count": null,
   "id": "0c4302dd-d46b-4c45-8e96-2cd28b7e2e90",
   "metadata": {},
   "outputs": [],
   "source": [
    "import numpy as np\n",
    "import rebound\n",
    "import matplotlib.pyplot as plt\n",
    "import json\n",
    "import pandas as pd"
   ]
  },
  {
   "cell_type": "code",
   "execution_count": null,
   "id": "4474b877-830a-4fd3-9fba-042fa49eb491",
   "metadata": {},
   "outputs": [],
   "source": [
    "ss_bodies = [\"Sun\", \"Mercury\", \"Venus\", \"Earth\", \"Mars\", \"Jupiter\", \"Saturn\", \"Uranus\", \"Neptune\", \"Pluto\"]"
   ]
  },
  {
   "cell_type": "code",
   "execution_count": null,
   "id": "804425cc-67bc-408c-9b79-f31c7702503e",
   "metadata": {},
   "outputs": [],
   "source": [
    "sim = rebound.Simulation()\n",
    "sim.units = ('day', 'AU', 'Msun')"
   ]
  },
  {
   "cell_type": "code",
   "execution_count": null,
   "id": "ed087e2e-e36b-45bb-a4c1-23e1bf523f29",
   "metadata": {},
   "outputs": [],
   "source": [
    "for body in ss_bodies:\n",
    "    sim.add(body)"
   ]
  },
  {
   "cell_type": "code",
   "execution_count": null,
   "id": "20654383-15ce-41c1-bfdf-99ec09ccef69",
   "metadata": {},
   "outputs": [],
   "source": [
    "sim.t"
   ]
  },
  {
   "cell_type": "code",
   "execution_count": null,
   "id": "a95cc4f9-c9a9-436d-a834-85bfbd9176fd",
   "metadata": {},
   "outputs": [],
   "source": [
    "tmax = 365 * 100\n",
    "dt = 1"
   ]
  },
  {
   "cell_type": "code",
   "execution_count": null,
   "id": "4d4ce0e1-d8a0-4dd5-a0cc-b2f091fa98bf",
   "metadata": {},
   "outputs": [],
   "source": [
    "records = {b: [] for b in ss_bodies}\n",
    "records['time'] = []\n",
    "records['Msun'] = []\n",
    "while sim.t < tmax:\n",
    "    sim.integrate(sim.t + dt)\n",
    "    for b, p in zip(ss_bodies, sim.particles):\n",
    "        records[b].append([p.x, p.y, p.z, p.vx, p.vy, p.vz])\n",
    "    records['time'].append(sim.t)\n",
    "    records['Msun'].append(sim.particles[0].m)"
   ]
  },
  {
   "cell_type": "code",
   "execution_count": null,
   "id": "3abb28fb-fd8e-4dc6-8d2b-cba39e461a4f",
   "metadata": {},
   "outputs": [],
   "source": [
    "output = {}\n",
    "for body in ss_bodies:\n",
    "    values = np.array(records[body])\n",
    "    output[body] = {'x': values[:,0].tolist(), 'y': values[:,1].tolist(), 'z': values[:,2].tolist(),\n",
    "                    'vx': values[:,3].tolist(), 'vy': values[:,4].tolist(), 'vz': values[:,5].tolist()}\n",
    "output['time'] = records['time']\n",
    "output['Msun'] = records['Msun']"
   ]
  },
  {
   "cell_type": "code",
   "execution_count": null,
   "id": "3e79cbd2-23fa-49ea-90e3-837f41019135",
   "metadata": {},
   "outputs": [],
   "source": [
    "fn = f\"standard_{tmax:010d}.json\"\n",
    "json.dump(output, open(fn, \"w\"), indent=2)"
   ]
  },
  {
   "cell_type": "code",
   "execution_count": null,
   "id": "f31e4271-e477-4fcb-bc16-f97a24122b78",
   "metadata": {},
   "outputs": [],
   "source": []
  }
 ],
 "metadata": {
  "kernelspec": {
   "display_name": "rebound",
   "language": "python",
   "name": "rebound"
  },
  "language_info": {
   "codemirror_mode": {
    "name": "ipython",
    "version": 3
   },
   "file_extension": ".py",
   "mimetype": "text/x-python",
   "name": "python",
   "nbconvert_exporter": "python",
   "pygments_lexer": "ipython3",
   "version": "3.12.5"
  }
 },
 "nbformat": 4,
 "nbformat_minor": 5
}
